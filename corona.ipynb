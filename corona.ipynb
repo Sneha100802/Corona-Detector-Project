{
 "cells": [
  {
   "cell_type": "code",
   "execution_count": null,
   "id": "104ea12e",
   "metadata": {},
   "outputs": [],
   "source": []
  }
 ],
 "metadata": {
  "kernelspec": {
   "display_name": "flask",
   "language": "python",
   "name": "python3"
  },
  "language_info": {
   "codemirror_mode": {
    "name": "ipython",
    "version": 3
   },
   "file_extension": ".py",
   "mimetype": "text/x-python",
   "name": "python",
   "nbconvert_exporter": "python",
   "pygments_lexer": "ipython3",
   "version": "3.11.0 (main, Oct 24 2022, 18:26:48) [MSC v.1933 64 bit (AMD64)]"
  },
  "vscode": {
   "interpreter": {
    "hash": "4d0632420670c4567ce379863ab5978c6f7b4d757209c16fc4d8a103b82d9fd1"
   }
  }
 },
 "nbformat": 4,
 "nbformat_minor": 5
}
